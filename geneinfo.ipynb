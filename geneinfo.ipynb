{
 "cells": [
  {
   "attachments": {},
   "cell_type": "markdown",
   "id": "f08f308e",
   "metadata": {},
   "source": [
    "## Download Pubmed Medline\n",
    "- *bio-python*\n",
    "\n",
    "## Recognize Country/Region/City Information\n",
    "- *locationtagger*\n",
    "\n",
    "## Search Gene Information\n",
    "- *mygene*"
   ]
  },
  {
   "cell_type": "code",
   "execution_count": 123,
   "id": "0ec0bf26-21e5-498a-8139-0b7c8810aa59",
   "metadata": {},
   "outputs": [],
   "source": [
    "import os\n",
    "import re\n",
    "import time\n",
    "import json\n",
    "import codecs\n",
    "import mygene\n",
    "import locationtagger\n",
    "import pandas as pd\n",
    "from tqdm import tqdm\n",
    "from Bio import Medline, Entrez\n",
    "Entrez.email = \"\""
   ]
  },
  {
   "cell_type": "code",
   "execution_count": 32,
   "id": "d8519de5-ed83-4b10-aa6f-a66f154a13a0",
   "metadata": {},
   "outputs": [
    {
     "name": "stdout",
     "output_type": "stream",
     "text": [
      "pmids 437\n",
      "pmids 351\n",
      "biomarkers 437\n",
      "biomarkers 353\n"
     ]
    }
   ],
   "source": [
    "pmids1, pmids2, pmids3 = [], [], []\n",
    "biomarker1, biomarker2, biomarker3 = [], [], []\n",
    "\n",
    "with codecs.open('adult.txt', encoding='utf-8') as f:\n",
    "    f.readline()\n",
    "    for line in f:\n",
    "        l = line.strip().split('\\t')\n",
    "        pmids1.append(l[0])\n",
    "        biomarker1.append(l[1])\n",
    "with codecs.open('children.txt', encoding='utf-8') as f:\n",
    "    f.readline()\n",
    "    for line in f:\n",
    "        l = line.strip().split('\\t')\n",
    "        pmids2.append(l[0])\n",
    "        biomarker2.append(l[1])\n",
    "with codecs.open('neonatal.txt', encoding='utf-8') as f:\n",
    "    f.readline()\n",
    "    for line in f:\n",
    "        l = line.strip().split('\\t')\n",
    "        pmids3.append(l[0])\n",
    "        biomarker3.append(l[1])\n",
    "    \n",
    "pmids = pmids1+pmids2+pmids3\n",
    "print('pmids', len(pmids))\n",
    "pmids = list(set(pmids))\n",
    "print('pmids', len(pmids))\n",
    "\n",
    "biomarkers = biomarker1+biomarker2+biomarker3\n",
    "print('biomarkers', len(biomarkers))\n",
    "biomarkers = list(set(biomarkers))\n",
    "print('biomarkers', len(biomarkers))"
   ]
  },
  {
   "cell_type": "markdown",
   "id": "dbeee937-5e8e-4d27-a644-dd336edcf45c",
   "metadata": {},
   "source": [
    "**Download PMID**"
   ]
  },
  {
   "cell_type": "code",
   "execution_count": 26,
   "id": "bd0d0417-b050-4c53-8ff8-cea331477907",
   "metadata": {},
   "outputs": [
    {
     "name": "stdout",
     "output_type": "stream",
     "text": [
      "[pmid]: 351, [save path]:pmid.json\n",
      "\t[Downloading]: 1-351\n",
      "\t[saved]: pmid.json\n",
      "\t[used time]: 3.9247 seconds.\n"
     ]
    },
    {
     "data": {
      "text/plain": [
       "'downloaded!'"
      ]
     },
     "execution_count": 26,
     "metadata": {},
     "output_type": "execute_result"
    }
   ],
   "source": [
    "def downloadMedline(pmids:list=None, save_path=None):\n",
    "    t1 = time.time()\n",
    "    print(\"[pmid]: {}, [save path]:{}\".format(len(pmids), save_path))\n",
    "    count = len(pmids)\n",
    "    batch_size = 10000\n",
    "    iterations = [[i * batch_size, min((i + 1) * batch_size, count)] for i in range((count-1) // batch_size + 1)]\n",
    "    # 开始分批次下载\n",
    "    medlines = list()\n",
    "    for (start, end) in iterations:\n",
    "        print('\\t[Downloading]: {}-{}'.format(start+1, end))\n",
    "        handle1 = Entrez.efetch(db='pubmed', id=pmids[start:end], rettype='medline', retmode='text')\n",
    "        record_medline = Medline.parse(handle1)\n",
    "        medlines.extend(list(record_medline))\n",
    "    # 保存\n",
    "    if save_path:\n",
    "        with codecs.open(save_path, \"w\", encoding='utf-8') as f:\n",
    "            f.write(json.dumps(medlines, ensure_ascii=False, indent=4))\n",
    "        print('\\t[saved]:', save_path)\n",
    "    t2 = time.time()\n",
    "    print('\\t[used time]: {} seconds.'.format(round(t2-t1, 4)))\n",
    "    return \"downloaded!\"\n",
    "\n",
    "downloadMedline(pmids, save_path='pmid.json')"
   ]
  },
  {
   "cell_type": "markdown",
   "id": "35625f16-7986-44ae-a9a3-697a15fa8774",
   "metadata": {},
   "source": [
    "**Extract Title, Abstract and Country/States/Cities**"
   ]
  },
  {
   "cell_type": "code",
   "execution_count": 27,
   "id": "dd689376-959e-47d9-a745-1b551bfdca58",
   "metadata": {},
   "outputs": [],
   "source": [
    "pmid2title = dict()\n",
    "pmid2abstract = dict()\n",
    "with codecs.open('pmid.json', encoding='utf-8') as f:\n",
    "    data = json.load(f)\n",
    "    for d in data:\n",
    "        pmid = d['PMID']\n",
    "        title = d['TI']\n",
    "        abstract = d.get('AB','')\n",
    "        pmid2title[pmid] = title\n",
    "        pmid2abstract[pmid] = abstract"
   ]
  },
  {
   "cell_type": "code",
   "execution_count": 29,
   "id": "95281c27-2053-48bd-9948-48130758854b",
   "metadata": {},
   "outputs": [],
   "source": [
    "def get_location(pmids, save_path):\n",
    "    pmid2country = dict()\n",
    "    pmid2regions = dict()\n",
    "    pmid2cities = dict()\n",
    "    for pmid in pmids:\n",
    "        title = pmid2title[pmid]\n",
    "        abstract = pmid2abstract[pmid]\n",
    "        text = title + '. ' + abstract\n",
    "        # extracting entities.\n",
    "        place_entity = locationtagger.find_locations(text = text)\n",
    "        pmid2country[pmid] = '; '.join(place_entity.countries)\n",
    "        pmid2regions[pmid] = '; '.join(place_entity.regions)\n",
    "        pmid2cities[pmid] = '; '.join(place_entity.cities)\n",
    "        \n",
    "    with open(save_path, 'w') as f:\n",
    "        f.write('\\t'.join(['PMID', 'Country', 'Region', 'City']) + '\\n')\n",
    "        for pmid in pmids:\n",
    "             f.write('\\t'.join([pmid, pmid2country[pmid], pmid2regions[pmid], pmid2cities[pmid]]) + '\\n')\n",
    "get_location(pmids1, 'adult_location.txt')\n",
    "get_location(pmids2, 'children_location.txt')\n",
    "get_location(pmids3, 'neonatal_location.txt')"
   ]
  },
  {
   "cell_type": "markdown",
   "id": "e1e3cba2-c594-4a3a-a141-ab6b6ac2dee3",
   "metadata": {},
   "source": [
    "---"
   ]
  },
  {
   "cell_type": "markdown",
   "id": "589fd52f-45e0-4697-a4c8-8796d0ed558d",
   "metadata": {},
   "source": [
    "**Gene Info**"
   ]
  },
  {
   "cell_type": "code",
   "execution_count": 112,
   "id": "90f4d012-a69c-41f7-9c3f-93585d7b5b0c",
   "metadata": {},
   "outputs": [
    {
     "data": {
      "text/plain": [
       "{'took': 10,\n",
       " 'total': 1,\n",
       " 'max_score': 10.429091,\n",
       " 'hits': [{'HGNC': '2367',\n",
       "   'MIM': '123260',\n",
       "   '_id': '1401',\n",
       "   '_score': 10.429091,\n",
       "   'alias': 'PTX1',\n",
       "   'ensembl': {'gene': 'ENSG00000132693'},\n",
       "   'entrezgene': '1401',\n",
       "   'name': 'C-reactive protein',\n",
       "   'symbol': 'CRP',\n",
       "   'type_of_gene': 'protein-coding',\n",
       "   'uniprot': {'Swiss-Prot': 'P02741', 'TrEMBL': ['C9JRE9', 'Q5VVP7']},\n",
       "   'wikipedia': {'url_stub': 'C-reactive protein'}}]}"
      ]
     },
     "execution_count": 112,
     "metadata": {},
     "output_type": "execute_result"
    }
   ],
   "source": [
    "import mygene\n",
    "mg = mygene.MyGeneInfo()\n",
    "mg.query(\"C-reactive protein (CRP)\", species='human', size=1, fields='entrezgene,symbol,alias,name,type_of_gene,ensembl.gene,HGNC,uniprot,MIM,wikipedia')"
   ]
  },
  {
   "cell_type": "code",
   "execution_count": 131,
   "id": "bbd88bc8-3379-4e5e-8105-19cac182edce",
   "metadata": {},
   "outputs": [
    {
     "name": "stderr",
     "output_type": "stream",
     "text": [
      "100%|████████████████████████████████████████████████████████████████████████████████| 149/149 [01:53<00:00,  1.32it/s]\n"
     ]
    }
   ],
   "source": [
    "def get_geneinfo(biomarkers, save_path):\n",
    "    with codecs.open(save_path, 'w', encoding='utf-8') as f:\n",
    "        columns = ['biomarker', 'gene_id', 'symbol', 'alias', 'name', 'gene_type', 'ensembl', 'HGNC', 'Uniprot', 'OMIM', 'wikipedia']\n",
    "        f.write('\\t'.join(columns) + '\\n')\n",
    "        for b in tqdm(biomarkers):\n",
    "            gene_id, symbol, alias, name, gene_type, ensembl, hgnc, uniprot, omim, wikipedia = '','','','','','','','','',''\n",
    "            try:\n",
    "                r = mg.query(b, species='human', size=1, fields='entrezgene,symbol,alias,name,type_of_gene,ensembl.gene,HGNC,uniprot,MIM,wikipedia')\n",
    "                if r['hits']:\n",
    "                    # print(r)\n",
    "                    gene_id = r['hits'][0].get('_id', '')\n",
    "                    symbol = r['hits'][0].get('symbol', '')\n",
    "                    alias = ';'.join(r['hits'][0].get('alias', ''))\n",
    "                    name = r['hits'][0].get('name', '')\n",
    "                    gene_type = r['hits'][0].get('type_of_gene', '')\n",
    "                    r_ensembl = r['hits'][0].get('ensembl', {'gene':''})\n",
    "                    if type(r_ensembl) == list:\n",
    "                        emsembl = ';'.join([i.get('gene', '') for i in r_ensembl])\n",
    "                    else:\n",
    "                        ensembl = r_ensembl.get('gene', '')\n",
    "                    hgnc = r['hits'][0].get('HGNC', '')\n",
    "                    uniprot = r['hits'][0].get('uniprot', {'Swiss-Prot':''}).get('Swiss-Prot', '')\n",
    "                    omim = r['hits'][0].get('MIM', '')\n",
    "                    wikipedia = r['hits'][0].get('wikipedia', {'url_stub':''}).get('url_stub', '')\n",
    "            except:\n",
    "                pass\n",
    "            f.write('\\t'.join([b, gene_id, symbol, alias, name, gene_type, ensembl, hgnc, uniprot, omim, wikipedia]) + '\\n')\n",
    "                \n",
    "# get_geneinfo(biomarker1, 'adult_geneinfo.txt')\n",
    "# get_geneinfo(biomarker2, 'children_geneinfo.txt')\n",
    "# get_geneinfo(biomarker3, 'neonatal_geneinfo.txt')"
   ]
  },
  {
   "cell_type": "code",
   "execution_count": 106,
   "id": "d86d1b9e-dccf-400f-977f-b25a87d84f3b",
   "metadata": {},
   "outputs": [],
   "source": [
    "# mg.getgenes('115505086', fields='all')"
   ]
  }
 ],
 "metadata": {
  "kernelspec": {
   "display_name": "Python 3 (ipykernel)",
   "language": "python",
   "name": "python3"
  },
  "language_info": {
   "codemirror_mode": {
    "name": "ipython",
    "version": 3
   },
   "file_extension": ".py",
   "mimetype": "text/x-python",
   "name": "python",
   "nbconvert_exporter": "python",
   "pygments_lexer": "ipython3",
   "version": "3.9.13"
  }
 },
 "nbformat": 4,
 "nbformat_minor": 5
}
